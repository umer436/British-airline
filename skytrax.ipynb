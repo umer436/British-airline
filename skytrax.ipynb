{
 "cells": [
  {
   "cell_type": "code",
   "execution_count": 1,
   "id": "48ac7570-e373-4023-bab5-b990fe9883bc",
   "metadata": {},
   "outputs": [],
   "source": [
    "import requests\n",
    "from bs4 import BeautifulSoup\n",
    "import pandas as pd"
   ]
  },
  {
   "cell_type": "code",
   "execution_count": 2,
   "id": "126209df-e84f-428e-b2d2-276407405f75",
   "metadata": {},
   "outputs": [],
   "source": [
    "import numpy as np\n",
    "import matplotlib.pyplot as plt\n",
    "import seaborn as sns\n",
    "\n",
    "%matplotlib inline"
   ]
  },
  {
   "cell_type": "code",
   "execution_count": 3,
   "id": "001fe235-d477-49b2-8e47-ba2464e910c9",
   "metadata": {},
   "outputs": [],
   "source": [
    "# Define the base URL and parameters\n",
    "base_url = \"https://www.airlinequality.com/airline-reviews/british-airways\"\n",
    "pages = 10\n",
    "page_size = 100"
   ]
  },
  {
   "cell_type": "code",
   "execution_count": 4,
   "id": "230669f0-872e-4273-b03c-c8e02f4f2d5f",
   "metadata": {},
   "outputs": [],
   "source": [
    "# Initialize lists for each column\n",
    "overall_ratings = []\n",
    "review_headers = []\n",
    "names = []\n",
    "datetimes = []\n",
    "verified_reviews = []\n",
    "review_bodies = []\n",
    "type_of_travellers = []\n",
    "seat_types = []\n",
    "routes = []\n",
    "dates_flown = []\n",
    "seat_comforts = []\n",
    "cabin_staff_services = []\n",
    "ground_services = []\n",
    "value_for_money = []\n",
    "recommendations = []\n",
    "aircrafts = []\n",
    "food_beverages = []\n",
    "inflight_entertainments = []\n",
    "wifi_connectivities = []\n"
   ]
  },
  {
   "cell_type": "code",
   "execution_count": 5,
   "id": "3b6221e7-640e-440d-8205-568b63b32c17",
   "metadata": {},
   "outputs": [
    {
     "name": "stdout",
     "output_type": "stream",
     "text": [
      "Scraping page 1\n"
     ]
    },
    {
     "name": "stderr",
     "output_type": "stream",
     "text": [
      "C:\\Users\\LAPTOP HUB\\AppData\\Local\\Temp\\ipykernel_15792\\1132619983.py:37: DeprecationWarning: The 'text' argument to find()-type methods is deprecated. Use 'string' instead.\n",
      "  element = review.find(\"td\", text=label)\n"
     ]
    },
    {
     "name": "stdout",
     "output_type": "stream",
     "text": [
      "Scraping page 2\n",
      "Scraping page 3\n",
      "Scraping page 4\n",
      "Scraping page 5\n",
      "Scraping page 6\n",
      "Scraping page 7\n",
      "Scraping page 8\n",
      "Scraping page 9\n",
      "Scraping page 10\n"
     ]
    }
   ],
   "source": [
    "# Loop through each page\n",
    "for i in range(1, pages + 1):\n",
    "    print(f\"Scraping page {i}\")\n",
    "    url = f\"{base_url}/page/{i}/?sortby=post_date%3ADesc&pagesize={page_size}\"\n",
    "    response = requests.get(url)\n",
    "    parsed_content = BeautifulSoup(response.content, \"html.parser\")\n",
    "\n",
    "    # Extract each review\n",
    "    for review in parsed_content.find_all(\"article\", {\"itemprop\": \"review\"}):\n",
    "        # Overall rating\n",
    "        rating_element = review.find(\"span\", {\"class\": \"star-rating\"})\n",
    "        overall_ratings.append(\n",
    "            rating_element.get(\"class\", [None])[-1] if rating_element else None\n",
    "        )\n",
    "\n",
    "        # Review header\n",
    "        header_element = review.find(\"h2\", {\"class\": \"text_header\"})\n",
    "        review_headers.append(header_element.text.strip() if header_element else None)\n",
    "\n",
    "        # Name\n",
    "        name_element = review.find(\"span\", {\"class\": \"userStatusWrapper\"})\n",
    "        names.append(name_element.text.strip() if name_element else None)\n",
    "\n",
    "        # Datetime\n",
    "        datetime_element = review.find(\"time\")\n",
    "        datetimes.append(datetime_element.get(\"datetime\") if datetime_element else None)\n",
    "\n",
    "        # Verified review\n",
    "        verified_reviews.append(\"✅\" in review.text)\n",
    "\n",
    "        # Review body\n",
    "        body_element = review.find(\"div\", {\"class\": \"text_content\"})\n",
    "        review_bodies.append(body_element.text.strip() if body_element else None)\n",
    "\n",
    "        # Additional attributes in table format\n",
    "        def extract_detail(label):\n",
    "            element = review.find(\"td\", text=label)\n",
    "            return element.find_next(\"td\").text.strip() if element else None\n",
    "\n",
    "        type_of_travellers.append(extract_detail(\"Type Of Traveller\"))\n",
    "        seat_types.append(extract_detail(\"Seat Type\"))\n",
    "        routes.append(extract_detail(\"Route\"))\n",
    "        dates_flown.append(extract_detail(\"Date Flown\"))\n",
    "        seat_comforts.append(extract_detail(\"Seat Comfort\"))\n",
    "        cabin_staff_services.append(extract_detail(\"Cabin Staff Service\"))\n",
    "        ground_services.append(extract_detail(\"Ground Service\"))\n",
    "        value_for_money.append(extract_detail(\"Value For Money\"))\n",
    "        recommendations.append(extract_detail(\"Recommended\"))\n",
    "        aircrafts.append(extract_detail(\"Aircraft\"))\n",
    "        food_beverages.append(extract_detail(\"Food & Beverages\"))\n",
    "        inflight_entertainments.append(extract_detail(\"Inflight Entertainment\"))\n",
    "        wifi_connectivities.append(extract_detail(\"Wifi & Connectivity\"))\n"
   ]
  },
  {
   "cell_type": "code",
   "execution_count": 6,
   "id": "a1f49a18-77e5-49a7-b1ee-95cf2e02c1dc",
   "metadata": {},
   "outputs": [],
   "source": [
    "# Create a DataFrame\n",
    "df = pd.DataFrame({\n",
    "    \"OverallRating\": overall_ratings,\n",
    "    \"ReviewHeader\": review_headers,\n",
    "    \"Name\": names,\n",
    "    \"Datetime\": datetimes,\n",
    "    \"VerifiedReview\": verified_reviews,\n",
    "    \"ReviewBody\": review_bodies,\n",
    "    \"TypeOfTraveller\": type_of_travellers,\n",
    "    \"SeatType\": seat_types,\n",
    "    \"Route\": routes,\n",
    "    \"DateFlown\": dates_flown,\n",
    "    \"SeatComfort\": seat_comforts,\n",
    "    \"CabinStaffService\": cabin_staff_services,\n",
    "    \"GroundService\": ground_services,\n",
    "    \"ValueForMoney\": value_for_money,\n",
    "    \"Recommended\": recommendations,\n",
    "    \"Aircraft\": aircrafts,\n",
    "    \"Food&Beverages\": food_beverages,\n",
    "    \"InflightEntertainment\": inflight_entertainments,\n",
    "    \"Wifi&Connectivity\": wifi_connectivities,\n",
    "})\n"
   ]
  },
  {
   "cell_type": "code",
   "execution_count": 7,
   "id": "acf32a4f-e73d-4a59-af92-ed48cefc02a0",
   "metadata": {},
   "outputs": [
    {
     "name": "stderr",
     "output_type": "stream",
     "text": [
      "C:\\Users\\LAPTOP HUB\\AppData\\Local\\Temp\\ipykernel_15792\\252407046.py:2: FutureWarning: DataFrame.applymap has been deprecated. Use DataFrame.map instead.\n",
      "  df = df.applymap(lambda x: x.strip() if isinstance(x, str) else x)\n"
     ]
    }
   ],
   "source": [
    "# Clean up whitespace and save\n",
    "df = df.applymap(lambda x: x.strip() if isinstance(x, str) else x)\n",
    "df.to_csv(\"airline_reviews.csv\", index=False, encoding=\"utf-8\")\n"
   ]
  },
  {
   "cell_type": "code",
   "execution_count": 8,
   "id": "1acc2d34-3bb6-4d4a-b6e5-a1624bfd2339",
   "metadata": {},
   "outputs": [
    {
     "name": "stdout",
     "output_type": "stream",
     "text": [
      "  OverallRating                            ReviewHeader  Name    Datetime  \\\n",
      "0          None   “Nobody wants to take responsibility”  None  2024-12-02   \n",
      "1          None             \"Terrible customer service\"  None  2024-11-29   \n",
      "2          None  “Is British Airways really this cheap”  None  2024-11-23   \n",
      "3          None             \"I will never fly BA again\"  None  2024-11-18   \n",
      "4          None            \"I was pleasantly surprised\"  None  2024-11-17   \n",
      "\n",
      "   VerifiedReview                                         ReviewBody  \\\n",
      "0            True  ✅ Trip Verified | The flight time was changed ...   \n",
      "1            True  ✅ Trip Verified |   I'm so fraustrated. My fli...   \n",
      "2            True  ✅ Trip Verified | We have sat on this plane fo...   \n",
      "3           False  Not Verified |  British Airways stranding my w...   \n",
      "4            True  ✅ Trip Verified |   Although like many these d...   \n",
      "\n",
      "  TypeOfTraveller       SeatType                           Route  \\\n",
      "0    Solo Leisure  Economy Class             Marrakesh to London   \n",
      "1  Family Leisure  Economy Class      London Heathrow to Toronto   \n",
      "2    Solo Leisure  Economy Class  Milan Italy to London Heathrow   \n",
      "3  Family Leisure  Economy Class  Madrid to San Diego via London   \n",
      "4  Family Leisure  Economy Class               London to Belfast   \n",
      "\n",
      "       DateFlown SeatComfort CabinStaffService GroundService ValueForMoney  \\\n",
      "0    August 2024       12345             12345         12345         12345   \n",
      "1  November 2024       12345             12345         12345         12345   \n",
      "2  November 2024       12345             12345         12345         12345   \n",
      "3   October 2024       12345             12345         12345         12345   \n",
      "4  November 2024       12345             12345         12345         12345   \n",
      "\n",
      "  Recommended Aircraft Food&Beverages InflightEntertainment Wifi&Connectivity  \n",
      "0          no     A320          12345                 12345              None  \n",
      "1          no     None          12345                 12345             12345  \n",
      "2          no     None          12345                  None              None  \n",
      "3          no     None          12345                 12345             12345  \n",
      "4          no     A321           None                  None              None  \n"
     ]
    }
   ],
   "source": [
    "# Display the first few rows\n",
    "print(df.head())"
   ]
  },
  {
   "cell_type": "code",
   "execution_count": 9,
   "id": "315aa071-e163-476b-83a0-d34c61e98a4e",
   "metadata": {},
   "outputs": [],
   "source": [
    "df=pd.read_csv(\"airline_reviews.csv\")"
   ]
  },
  {
   "cell_type": "code",
   "execution_count": 10,
   "id": "38fc9267-ac70-4fb4-b880-5b52ac0152f8",
   "metadata": {},
   "outputs": [
    {
     "data": {
      "text/html": [
       "<div>\n",
       "<style scoped>\n",
       "    .dataframe tbody tr th:only-of-type {\n",
       "        vertical-align: middle;\n",
       "    }\n",
       "\n",
       "    .dataframe tbody tr th {\n",
       "        vertical-align: top;\n",
       "    }\n",
       "\n",
       "    .dataframe thead th {\n",
       "        text-align: right;\n",
       "    }\n",
       "</style>\n",
       "<table border=\"1\" class=\"dataframe\">\n",
       "  <thead>\n",
       "    <tr style=\"text-align: right;\">\n",
       "      <th></th>\n",
       "      <th>OverallRating</th>\n",
       "      <th>ReviewHeader</th>\n",
       "      <th>Name</th>\n",
       "      <th>Datetime</th>\n",
       "      <th>VerifiedReview</th>\n",
       "      <th>ReviewBody</th>\n",
       "      <th>TypeOfTraveller</th>\n",
       "      <th>SeatType</th>\n",
       "      <th>Route</th>\n",
       "      <th>DateFlown</th>\n",
       "      <th>SeatComfort</th>\n",
       "      <th>CabinStaffService</th>\n",
       "      <th>GroundService</th>\n",
       "      <th>ValueForMoney</th>\n",
       "      <th>Recommended</th>\n",
       "      <th>Aircraft</th>\n",
       "      <th>Food&amp;Beverages</th>\n",
       "      <th>InflightEntertainment</th>\n",
       "      <th>Wifi&amp;Connectivity</th>\n",
       "    </tr>\n",
       "  </thead>\n",
       "  <tbody>\n",
       "    <tr>\n",
       "      <th>0</th>\n",
       "      <td>NaN</td>\n",
       "      <td>“Nobody wants to take responsibility”</td>\n",
       "      <td>NaN</td>\n",
       "      <td>2024-12-02</td>\n",
       "      <td>True</td>\n",
       "      <td>✅ Trip Verified | The flight time was changed ...</td>\n",
       "      <td>Solo Leisure</td>\n",
       "      <td>Economy Class</td>\n",
       "      <td>Marrakesh to London</td>\n",
       "      <td>August 2024</td>\n",
       "      <td>12345.0</td>\n",
       "      <td>12345.0</td>\n",
       "      <td>12345.0</td>\n",
       "      <td>12345</td>\n",
       "      <td>no</td>\n",
       "      <td>A320</td>\n",
       "      <td>12345.0</td>\n",
       "      <td>12345.0</td>\n",
       "      <td>NaN</td>\n",
       "    </tr>\n",
       "    <tr>\n",
       "      <th>1</th>\n",
       "      <td>NaN</td>\n",
       "      <td>\"Terrible customer service\"</td>\n",
       "      <td>NaN</td>\n",
       "      <td>2024-11-29</td>\n",
       "      <td>True</td>\n",
       "      <td>✅ Trip Verified |   I'm so fraustrated. My fli...</td>\n",
       "      <td>Family Leisure</td>\n",
       "      <td>Economy Class</td>\n",
       "      <td>London Heathrow to Toronto</td>\n",
       "      <td>November 2024</td>\n",
       "      <td>12345.0</td>\n",
       "      <td>12345.0</td>\n",
       "      <td>12345.0</td>\n",
       "      <td>12345</td>\n",
       "      <td>no</td>\n",
       "      <td>NaN</td>\n",
       "      <td>12345.0</td>\n",
       "      <td>12345.0</td>\n",
       "      <td>12345.0</td>\n",
       "    </tr>\n",
       "    <tr>\n",
       "      <th>2</th>\n",
       "      <td>NaN</td>\n",
       "      <td>“Is British Airways really this cheap”</td>\n",
       "      <td>NaN</td>\n",
       "      <td>2024-11-23</td>\n",
       "      <td>True</td>\n",
       "      <td>✅ Trip Verified | We have sat on this plane fo...</td>\n",
       "      <td>Solo Leisure</td>\n",
       "      <td>Economy Class</td>\n",
       "      <td>Milan Italy to London Heathrow</td>\n",
       "      <td>November 2024</td>\n",
       "      <td>12345.0</td>\n",
       "      <td>12345.0</td>\n",
       "      <td>12345.0</td>\n",
       "      <td>12345</td>\n",
       "      <td>no</td>\n",
       "      <td>NaN</td>\n",
       "      <td>12345.0</td>\n",
       "      <td>NaN</td>\n",
       "      <td>NaN</td>\n",
       "    </tr>\n",
       "    <tr>\n",
       "      <th>3</th>\n",
       "      <td>NaN</td>\n",
       "      <td>\"I will never fly BA again\"</td>\n",
       "      <td>NaN</td>\n",
       "      <td>2024-11-18</td>\n",
       "      <td>False</td>\n",
       "      <td>Not Verified |  British Airways stranding my w...</td>\n",
       "      <td>Family Leisure</td>\n",
       "      <td>Economy Class</td>\n",
       "      <td>Madrid to San Diego via London</td>\n",
       "      <td>October 2024</td>\n",
       "      <td>12345.0</td>\n",
       "      <td>12345.0</td>\n",
       "      <td>12345.0</td>\n",
       "      <td>12345</td>\n",
       "      <td>no</td>\n",
       "      <td>NaN</td>\n",
       "      <td>12345.0</td>\n",
       "      <td>12345.0</td>\n",
       "      <td>12345.0</td>\n",
       "    </tr>\n",
       "    <tr>\n",
       "      <th>4</th>\n",
       "      <td>NaN</td>\n",
       "      <td>\"I was pleasantly surprised\"</td>\n",
       "      <td>NaN</td>\n",
       "      <td>2024-11-17</td>\n",
       "      <td>True</td>\n",
       "      <td>✅ Trip Verified |   Although like many these d...</td>\n",
       "      <td>Family Leisure</td>\n",
       "      <td>Economy Class</td>\n",
       "      <td>London to Belfast</td>\n",
       "      <td>November 2024</td>\n",
       "      <td>12345.0</td>\n",
       "      <td>12345.0</td>\n",
       "      <td>12345.0</td>\n",
       "      <td>12345</td>\n",
       "      <td>no</td>\n",
       "      <td>A321</td>\n",
       "      <td>NaN</td>\n",
       "      <td>NaN</td>\n",
       "      <td>NaN</td>\n",
       "    </tr>\n",
       "  </tbody>\n",
       "</table>\n",
       "</div>"
      ],
      "text/plain": [
       "   OverallRating                            ReviewHeader  Name    Datetime  \\\n",
       "0            NaN   “Nobody wants to take responsibility”   NaN  2024-12-02   \n",
       "1            NaN             \"Terrible customer service\"   NaN  2024-11-29   \n",
       "2            NaN  “Is British Airways really this cheap”   NaN  2024-11-23   \n",
       "3            NaN             \"I will never fly BA again\"   NaN  2024-11-18   \n",
       "4            NaN            \"I was pleasantly surprised\"   NaN  2024-11-17   \n",
       "\n",
       "   VerifiedReview                                         ReviewBody  \\\n",
       "0            True  ✅ Trip Verified | The flight time was changed ...   \n",
       "1            True  ✅ Trip Verified |   I'm so fraustrated. My fli...   \n",
       "2            True  ✅ Trip Verified | We have sat on this plane fo...   \n",
       "3           False  Not Verified |  British Airways stranding my w...   \n",
       "4            True  ✅ Trip Verified |   Although like many these d...   \n",
       "\n",
       "  TypeOfTraveller       SeatType                           Route  \\\n",
       "0    Solo Leisure  Economy Class             Marrakesh to London   \n",
       "1  Family Leisure  Economy Class      London Heathrow to Toronto   \n",
       "2    Solo Leisure  Economy Class  Milan Italy to London Heathrow   \n",
       "3  Family Leisure  Economy Class  Madrid to San Diego via London   \n",
       "4  Family Leisure  Economy Class               London to Belfast   \n",
       "\n",
       "       DateFlown  SeatComfort  CabinStaffService  GroundService  \\\n",
       "0    August 2024      12345.0            12345.0        12345.0   \n",
       "1  November 2024      12345.0            12345.0        12345.0   \n",
       "2  November 2024      12345.0            12345.0        12345.0   \n",
       "3   October 2024      12345.0            12345.0        12345.0   \n",
       "4  November 2024      12345.0            12345.0        12345.0   \n",
       "\n",
       "   ValueForMoney Recommended Aircraft  Food&Beverages  InflightEntertainment  \\\n",
       "0          12345          no     A320         12345.0                12345.0   \n",
       "1          12345          no      NaN         12345.0                12345.0   \n",
       "2          12345          no      NaN         12345.0                    NaN   \n",
       "3          12345          no      NaN         12345.0                12345.0   \n",
       "4          12345          no     A321             NaN                    NaN   \n",
       "\n",
       "   Wifi&Connectivity  \n",
       "0                NaN  \n",
       "1            12345.0  \n",
       "2                NaN  \n",
       "3            12345.0  \n",
       "4                NaN  "
      ]
     },
     "execution_count": 10,
     "metadata": {},
     "output_type": "execute_result"
    }
   ],
   "source": [
    "df.head()"
   ]
  },
  {
   "cell_type": "code",
   "execution_count": 11,
   "id": "41581b46-ba94-4114-9907-80beb448ca36",
   "metadata": {},
   "outputs": [
    {
     "name": "stdout",
     "output_type": "stream",
     "text": [
      "<class 'pandas.core.frame.DataFrame'>\n",
      "RangeIndex: 1000 entries, 0 to 999\n",
      "Data columns (total 19 columns):\n",
      " #   Column                 Non-Null Count  Dtype  \n",
      "---  ------                 --------------  -----  \n",
      " 0   OverallRating          0 non-null      float64\n",
      " 1   ReviewHeader           1000 non-null   object \n",
      " 2   Name                   0 non-null      float64\n",
      " 3   Datetime               1000 non-null   object \n",
      " 4   VerifiedReview         1000 non-null   bool   \n",
      " 5   ReviewBody             1000 non-null   object \n",
      " 6   TypeOfTraveller        998 non-null    object \n",
      " 7   SeatType               1000 non-null   object \n",
      " 8   Route                  996 non-null    object \n",
      " 9   DateFlown              1000 non-null   object \n",
      " 10  SeatComfort            913 non-null    float64\n",
      " 11  CabinStaffService      903 non-null    float64\n",
      " 12  GroundService          943 non-null    float64\n",
      " 13  ValueForMoney          1000 non-null   int64  \n",
      " 14  Recommended            1000 non-null   object \n",
      " 15  Aircraft               526 non-null    object \n",
      " 16  Food&Beverages         777 non-null    float64\n",
      " 17  InflightEntertainment  519 non-null    float64\n",
      " 18  Wifi&Connectivity      327 non-null    float64\n",
      "dtypes: bool(1), float64(8), int64(1), object(9)\n",
      "memory usage: 141.7+ KB\n"
     ]
    }
   ],
   "source": [
    "# top level overview of the dataset\n",
    "df.info()"
   ]
  },
  {
   "cell_type": "code",
   "execution_count": 12,
   "id": "03d46d6e-cfa4-4acf-a555-c588be1102ad",
   "metadata": {},
   "outputs": [],
   "source": [
    "# remove the columns that will not be analyzed\n",
    "df.drop(columns=['Name','Datetime','DateFlown','Route','Aircraft'], axis=1, inplace=True)"
   ]
  },
  {
   "cell_type": "code",
   "execution_count": 13,
   "id": "065b2632-7e96-4091-b5f4-d0623f9d8ec2",
   "metadata": {},
   "outputs": [],
   "source": [
    "df.drop(columns=['OverallRating'], axis=1, inplace=True)"
   ]
  },
  {
   "cell_type": "markdown",
   "id": "39146fdc-3fa9-48f8-b3c5-8f4b8f7e5ed2",
   "metadata": {},
   "source": [
    "# seat comfort"
   ]
  },
  {
   "cell_type": "code",
   "execution_count": 15,
   "id": "4c7f437c-34cc-4842-9a40-c60f6cf45fb2",
   "metadata": {},
   "outputs": [
    {
     "name": "stderr",
     "output_type": "stream",
     "text": [
      "C:\\Users\\LAPTOP HUB\\AppData\\Local\\Temp\\ipykernel_15792\\1274954614.py:3: FutureWarning: \n",
      "\n",
      "Passing `palette` without assigning `hue` is deprecated and will be removed in v0.14.0. Assign the `x` variable to `hue` and set `legend=False` for the same effect.\n",
      "\n",
      "  sns.countplot(data=df, x=df['SeatComfort'], palette='flare')\n"
     ]
    },
    {
     "data": {
      "image/png": "[encoded data removed]",
      "text/plain": [
       "<Figure size 1000x400 with 1 Axes>"
      ]
     },
     "metadata": {},
     "output_type": "display_data"
    }
   ],
   "source": [
    "# distribution of the rating for seat comfort\n",
    "plt.figure(figsize=(10,4))\n",
    "sns.countplot(data=df, x=df['SeatComfort'], palette='flare')\n",
    "plt.xlabel('Rating (1-5)')\n",
    "plt.ylabel('Frequency')\n",
    "plt.grid(alpha=0.4)\n",
    "plt.title('Rating for Seat Comfort', fontsize=15)\n",
    "plt.show()"
   ]
  },
  {
   "cell_type": "code",
   "execution_count": 16,
   "id": "951626dd-6866-4b14-a45c-e661f4aabdb4",
   "metadata": {},
   "outputs": [
    {
     "name": "stdout",
     "output_type": "stream",
     "text": [
      "[12345.    nan]\n",
      "count      913.0\n",
      "mean     12345.0\n",
      "std          0.0\n",
      "min      12345.0\n",
      "25%      12345.0\n",
      "50%      12345.0\n",
      "75%      12345.0\n",
      "max      12345.0\n",
      "Name: SeatComfort, dtype: float64\n"
     ]
    }
   ],
   "source": [
    "print(df['SeatComfort'].unique())  # Check unique values\n",
    "print(df['SeatComfort'].describe())  # Check summary statistics\n"
   ]
  },
  {
   "cell_type": "code",
   "execution_count": 17,
   "id": "b66af110-da99-4d1a-b809-bdbb8fcabf4b",
   "metadata": {},
   "outputs": [
    {
     "name": "stdout",
     "output_type": "stream",
     "text": [
      "SeatComfort\n",
      "12345.0    913\n",
      "Name: count, dtype: int64\n"
     ]
    }
   ],
   "source": [
    "print(df['SeatComfort'].value_counts())\n"
   ]
  },
  {
   "cell_type": "code",
   "execution_count": 18,
   "id": "a5b423a8-b890-4c48-97ae-45de88bfd30f",
   "metadata": {},
   "outputs": [],
   "source": [
    "import numpy as np\n",
    "\n",
    "# Replace invalid values with NaN\n",
    "df['SeatComfort'] = df['SeatComfort'].replace(12345, np.nan)\n",
    "\n",
    "# Drop rows with NaN values in the SeatComfort column\n",
    "df_cleaned = df.dropna(subset=['SeatComfort'])\n"
   ]
  },
  {
   "cell_type": "code",
   "execution_count": 19,
   "id": "43d3e1c1-166a-404a-8709-b7147e34c096",
   "metadata": {},
   "outputs": [],
   "source": [
    "df_cleaned['SeatComfort'] = df_cleaned['SeatComfort'].astype(int)\n"
   ]
  },
  {
   "cell_type": "code",
   "execution_count": 20,
   "id": "ce9bb5b1-c924-4eed-9582-2d8ee49ee68b",
   "metadata": {},
   "outputs": [],
   "source": [
    "df_cleaned = df_cleaned[(df_cleaned['SeatComfort'] >= 1) & (df_cleaned['SeatComfort'] <= 5)]\n"
   ]
  },
  {
   "cell_type": "code",
   "execution_count": 21,
   "id": "6d7761c8-75f5-42fe-be0a-a708202d34c1",
   "metadata": {},
   "outputs": [
    {
     "data": {
      "image/png": "[encoded data removed]",
      "text/plain": [
       "<Figure size 1000x400 with 1 Axes>"
      ]
     },
     "metadata": {},
     "output_type": "display_data"
    }
   ],
   "source": [
    "plt.figure(figsize=(10, 4))\n",
    "sns.countplot(data=df_cleaned, x='SeatComfort', palette='flare')\n",
    "plt.xlabel('Rating (1-5)', fontsize=12)\n",
    "plt.ylabel('Frequency', fontsize=12)\n",
    "plt.title('Distribution of Seat Comfort Ratings', fontsize=15)\n",
    "plt.grid(axis='y', alpha=0.4)\n",
    "plt.show()\n"
   ]
  },
  {
   "cell_type": "code",
   "execution_count": null,
   "id": "b1b6ce99-9db7-42f5-878c-0e0c974c43ef",
   "metadata": {},
   "outputs": [],
   "source": []
  },
  {
   "cell_type": "code",
   "execution_count": null,
   "id": "c1028af0-5069-4443-aa5a-61f909ef19b6",
   "metadata": {},
   "outputs": [],
   "source": []
  },
  {
   "cell_type": "code",
   "execution_count": null,
   "id": "77b7e079-7c70-4268-83a1-9916a68ca518",
   "metadata": {},
   "outputs": [],
   "source": []
  },
  {
   "cell_type": "markdown",
   "id": "a9ddc2ce-f890-483e-9ff8-017dd7e1fdf0",
   "metadata": {},
   "source": [
    "# Rating for Cabin Staff Service"
   ]
  },
  {
   "cell_type": "code",
   "execution_count": 23,
   "id": "c7bf4579-aa30-4c50-bdbb-04f8eec3a7fc",
   "metadata": {},
   "outputs": [
    {
     "name": "stderr",
     "output_type": "stream",
     "text": [
      "C:\\Users\\LAPTOP HUB\\AppData\\Local\\Temp\\ipykernel_15792\\3561131751.py:3: FutureWarning: \n",
      "\n",
      "Passing `palette` without assigning `hue` is deprecated and will be removed in v0.14.0. Assign the `x` variable to `hue` and set `legend=False` for the same effect.\n",
      "\n",
      "  sns.countplot(data=df, x=df['CabinStaffService'], palette='flare')\n"
     ]
    },
    {
     "data": {
      "image/png": "[encoded data removed]",
      "text/plain": [
       "<Figure size 1000x400 with 1 Axes>"
      ]
     },
     "metadata": {},
     "output_type": "display_data"
    }
   ],
   "source": [
    "# distribution of the rating for cabin staff service\n",
    "plt.figure(figsize=(10,4))\n",
    "sns.countplot(data=df, x=df['CabinStaffService'], palette='flare')\n",
    "plt.xlabel('Rating (1-4)')\n",
    "plt.ylabel('Frequency')\n",
    "plt.grid(alpha=0.4)\n",
    "plt.title('Rating for Cabin Staff Service', fontsize=15)\n",
    "plt.show()"
   ]
  },
  {
   "cell_type": "markdown",
   "id": "58057c86-fd76-4dd7-8dcb-079e41dd8692",
   "metadata": {},
   "source": [
    "# the rating for ground service"
   ]
  },
  {
   "cell_type": "code",
   "execution_count": 25,
   "id": "07f1bd22-6e4a-477d-bfc2-cbe8f7cc2801",
   "metadata": {},
   "outputs": [
    {
     "name": "stderr",
     "output_type": "stream",
     "text": [
      "C:\\Users\\LAPTOP HUB\\AppData\\Local\\Temp\\ipykernel_15792\\3907518732.py:3: FutureWarning: \n",
      "\n",
      "Passing `palette` without assigning `hue` is deprecated and will be removed in v0.14.0. Assign the `x` variable to `hue` and set `legend=False` for the same effect.\n",
      "\n",
      "  sns.countplot(data=df, x=df['GroundService'], palette='flare')\n"
     ]
    },
    {
     "data": {
      "image/png": "[encoded data removed]",
      "text/plain": [
       "<Figure size 1000x400 with 1 Axes>"
      ]
     },
     "metadata": {},
     "output_type": "display_data"
    }
   ],
   "source": [
    "# distribution of the rating for ground service\n",
    "plt.figure(figsize=(10,4))\n",
    "sns.countplot(data=df, x=df['GroundService'], palette='flare')\n",
    "plt.xlabel('Rating (1-5)')\n",
    "plt.ylabel('Frequency')\n",
    "plt.grid(alpha=0.4)\n",
    "plt.title('Rating for Ground Service', fontsize=15)\n",
    "plt.show()"
   ]
  },
  {
   "cell_type": "markdown",
   "id": "a0a2da4b-3cdb-4988-8fe9-b2ef8f25e0ce",
   "metadata": {},
   "source": [
    "# Rating for the Value for Money"
   ]
  },
  {
   "cell_type": "code",
   "execution_count": 27,
   "id": "db98ab34-735b-4e4f-a579-15dd3421bf2a",
   "metadata": {},
   "outputs": [
    {
     "name": "stderr",
     "output_type": "stream",
     "text": [
      "C:\\Users\\LAPTOP HUB\\AppData\\Local\\Temp\\ipykernel_15792\\3869467698.py:3: FutureWarning: \n",
      "\n",
      "Passing `palette` without assigning `hue` is deprecated and will be removed in v0.14.0. Assign the `x` variable to `hue` and set `legend=False` for the same effect.\n",
      "\n",
      "  sns.countplot(data=df, x=df['ValueForMoney'], palette='flare')\n"
     ]
    },
    {
     "data": {
      "image/png": "[encoded data removed]",
      "text/plain": [
       "<Figure size 1000x400 with 1 Axes>"
      ]
     },
     "metadata": {},
     "output_type": "display_data"
    }
   ],
   "source": [
    "# distribution of the rating for the value for money\n",
    "plt.figure(figsize=(10,4))\n",
    "sns.countplot(data=df, x=df['ValueForMoney'], palette='flare')\n",
    "plt.xlabel('Rating (1-5)')\n",
    "plt.ylabel('Frequency')\n",
    "plt.grid(alpha=0.4)\n",
    "plt.title('Rating for the Value for Money', fontsize=15)\n",
    "plt.show()"
   ]
  },
  {
   "cell_type": "markdown",
   "id": "e37ac5eb-d046-4c62-9c7b-ed9029991829",
   "metadata": {},
   "source": [
    "# Customer Reviews Analysis"
   ]
  },
  {
   "cell_type": "markdown",
   "id": "e5693e16-68db-43d1-90d6-4d011834d8db",
   "metadata": {},
   "source": [
    "# Proportion of Recommended vs No Recommended"
   ]
  },
  {
   "cell_type": "code",
   "execution_count": 30,
   "id": "834c489d-42fb-41d6-976b-55a296ac3876",
   "metadata": {},
   "outputs": [
    {
     "name": "stdout",
     "output_type": "stream",
     "text": [
      "Requirement already satisfied: pywaffle in c:\\users\\laptop hub\\anaconda3\\lib\\site-packages (1.1.1)\n",
      "Requirement already satisfied: fontawesomefree in c:\\users\\laptop hub\\anaconda3\\lib\\site-packages (from pywaffle) (6.6.0)\n",
      "Requirement already satisfied: matplotlib in c:\\users\\laptop hub\\anaconda3\\lib\\site-packages (from pywaffle) (3.9.2)\n",
      "Requirement already satisfied: contourpy>=1.0.1 in c:\\users\\laptop hub\\anaconda3\\lib\\site-packages (from matplotlib->pywaffle) (1.3.1)\n",
      "Requirement already satisfied: cycler>=0.10 in c:\\users\\laptop hub\\anaconda3\\lib\\site-packages (from matplotlib->pywaffle) (0.11.0)\n",
      "Requirement already satisfied: fonttools>=4.22.0 in c:\\users\\laptop hub\\anaconda3\\lib\\site-packages (from matplotlib->pywaffle) (4.51.0)\n",
      "Requirement already satisfied: kiwisolver>=1.3.1 in c:\\users\\laptop hub\\anaconda3\\lib\\site-packages (from matplotlib->pywaffle) (1.4.4)\n",
      "Requirement already satisfied: numpy>=1.23 in c:\\users\\laptop hub\\anaconda3\\lib\\site-packages (from matplotlib->pywaffle) (1.26.4)\n",
      "Requirement already satisfied: packaging>=20.0 in c:\\users\\laptop hub\\anaconda3\\lib\\site-packages (from matplotlib->pywaffle) (24.2)\n",
      "Requirement already satisfied: pillow>=8 in c:\\users\\laptop hub\\anaconda3\\lib\\site-packages (from matplotlib->pywaffle) (10.4.0)\n",
      "Requirement already satisfied: pyparsing>=2.3.1 in c:\\users\\laptop hub\\anaconda3\\lib\\site-packages (from matplotlib->pywaffle) (3.2.0)\n",
      "Requirement already satisfied: python-dateutil>=2.7 in c:\\users\\laptop hub\\anaconda3\\lib\\site-packages (from matplotlib->pywaffle) (2.9.0.post0)\n",
      "Requirement already satisfied: six>=1.5 in c:\\users\\laptop hub\\anaconda3\\lib\\site-packages (from python-dateutil>=2.7->matplotlib->pywaffle) (1.16.0)\n"
     ]
    }
   ],
   "source": [
    "# install pywaffle library to the working environment\n",
    "# documentation: https://pywaffle.readthedocs.io/en/latest/index.html\n",
    "!pip install pywaffle"
   ]
  },
  {
   "cell_type": "code",
   "execution_count": 31,
   "id": "69faacfc-b2a9-4763-b4e8-b6b27f2fa993",
   "metadata": {},
   "outputs": [],
   "source": [
    "df=pd.read_csv(\"airline_reviews.csv\")"
   ]
  },
  {
   "cell_type": "code",
   "execution_count": 32,
   "id": "42a73c84-e811-44b2-a4ac-1bd23c407665",
   "metadata": {},
   "outputs": [
    {
     "data": {
      "text/plain": [
       "0       no\n",
       "1       no\n",
       "2       no\n",
       "3       no\n",
       "4       no\n",
       "      ... \n",
       "995    yes\n",
       "996     no\n",
       "997     no\n",
       "998     no\n",
       "999     no\n",
       "Name: Recommended, Length: 1000, dtype: object"
      ]
     },
     "execution_count": 32,
     "metadata": {},
     "output_type": "execute_result"
    }
   ],
   "source": [
    "df['Recommended']  # Check unique values"
   ]
  },
  {
   "cell_type": "code",
   "execution_count": 33,
   "id": "a3ded22d-a461-4750-905f-f395d6bd22f9",
   "metadata": {
    "scrolled": true
   },
   "outputs": [
    {
     "data": {
      "image/png": "[encoded data removed]",
      "text/plain": [
       "<Waffle size 1200x600 with 1 Axes>"
      ]
     },
     "metadata": {},
     "output_type": "display_data"
    }
   ],
   "source": [
    "from pywaffle import Waffle\n",
    "import matplotlib.pyplot as plt\n",
    "\n",
    "# Count the \"Yes\" and \"No\" values in the Recommended column\n",
    "recommendation = df['Recommended'].value_counts()\n",
    "\n",
    "# Calculate percentages\n",
    "percentage = (recommendation.values / recommendation.sum()) * 100\n",
    "\n",
    "# Create the waffle chart\n",
    "figure = plt.figure(\n",
    "    FigureClass=Waffle,\n",
    "    rows=10,\n",
    "    values=dict(zip(recommendation.index, percentage)),\n",
    "    colors=['lightcoral', 'darkorchid'],  # Customize as needed\n",
    "    icons='thumbs-up',  # Single icon style\n",
    "    font_size=20,\n",
    "    figsize=(12, 6),\n",
    "    icon_style='solid',\n",
    "    icon_legend=True,\n",
    "    legend={\n",
    "        'labels': [f\"{label} ({int(value)}%)\" for label, value in zip(recommendation.index, percentage)],\n",
    "        'loc': 'upper left',\n",
    "        'bbox_to_anchor': (1, 1),\n",
    "        'fontsize': 12\n",
    "    }\n",
    ")\n",
    "\n",
    "plt.title('Recommended vs Not Recommended', fontsize=15)\n",
    "plt.savefig('source.png',dpi=100)\n",
    "plt.show()\n"
   ]
  },
  {
   "cell_type": "code",
   "execution_count": 34,
   "id": "38742434-1ce6-47e7-b8d9-ac0fb01eb4c6",
   "metadata": {},
   "outputs": [
    {
     "name": "stdout",
     "output_type": "stream",
     "text": [
      "Requirement already satisfied: wordcloud in c:\\users\\laptop hub\\anaconda3\\lib\\site-packages (1.9.4)\n",
      "Requirement already satisfied: numpy>=1.6.1 in c:\\users\\laptop hub\\anaconda3\\lib\\site-packages (from wordcloud) (1.26.4)\n",
      "Requirement already satisfied: pillow in c:\\users\\laptop hub\\anaconda3\\lib\\site-packages (from wordcloud) (10.4.0)\n",
      "Requirement already satisfied: matplotlib in c:\\users\\laptop hub\\anaconda3\\lib\\site-packages (from wordcloud) (3.9.2)\n",
      "Requirement already satisfied: contourpy>=1.0.1 in c:\\users\\laptop hub\\anaconda3\\lib\\site-packages (from matplotlib->wordcloud) (1.3.1)\n",
      "Requirement already satisfied: cycler>=0.10 in c:\\users\\laptop hub\\anaconda3\\lib\\site-packages (from matplotlib->wordcloud) (0.11.0)\n",
      "Requirement already satisfied: fonttools>=4.22.0 in c:\\users\\laptop hub\\anaconda3\\lib\\site-packages (from matplotlib->wordcloud) (4.51.0)\n",
      "Requirement already satisfied: kiwisolver>=1.3.1 in c:\\users\\laptop hub\\anaconda3\\lib\\site-packages (from matplotlib->wordcloud) (1.4.4)\n",
      "Requirement already satisfied: packaging>=20.0 in c:\\users\\laptop hub\\anaconda3\\lib\\site-packages (from matplotlib->wordcloud) (24.2)\n",
      "Requirement already satisfied: pyparsing>=2.3.1 in c:\\users\\laptop hub\\anaconda3\\lib\\site-packages (from matplotlib->wordcloud) (3.2.0)\n",
      "Requirement already satisfied: python-dateutil>=2.7 in c:\\users\\laptop hub\\anaconda3\\lib\\site-packages (from matplotlib->wordcloud) (2.9.0.post0)\n",
      "Requirement already satisfied: six>=1.5 in c:\\users\\laptop hub\\anaconda3\\lib\\site-packages (from python-dateutil>=2.7->matplotlib->wordcloud) (1.16.0)\n",
      "Note: you may need to restart the kernel to use updated packages.\n"
     ]
    }
   ],
   "source": [
    "pip install wordcloud\n"
   ]
  },
  {
   "cell_type": "code",
   "execution_count": 35,
   "id": "f86cb4e6-e333-4323-ac89-665a7d3ecdbb",
   "metadata": {},
   "outputs": [
    {
     "name": "stdout",
     "output_type": "stream",
     "text": [
      "1.5.1\n"
     ]
    },
    {
     "ename": "ValueError",
     "evalue": "numpy.dtype size changed, may indicate binary incompatibility. Expected 96 from C header, got 88 from PyObject",
     "output_type": "error",
     "traceback": [
      "\u001b[1;31m---------------------------------------------------------------------------\u001b[0m",
      "\u001b[1;31mValueError\u001b[0m                                Traceback (most recent call last)",
      "Cell \u001b[1;32mIn[35], line 4\u001b[0m\n\u001b[0;32m      1\u001b[0m \u001b[38;5;28;01mimport\u001b[39;00m \u001b[38;5;21;01msklearn\u001b[39;00m\n\u001b[0;32m      2\u001b[0m \u001b[38;5;28mprint\u001b[39m(sklearn\u001b[38;5;241m.\u001b[39m__version__)\n\u001b[1;32m----> 4\u001b[0m \u001b[38;5;28;01mfrom\u001b[39;00m \u001b[38;5;21;01msklearn\u001b[39;00m\u001b[38;5;21;01m.\u001b[39;00m\u001b[38;5;21;01mfeature_extraction\u001b[39;00m\u001b[38;5;21;01m.\u001b[39;00m\u001b[38;5;21;01mtext\u001b[39;00m \u001b[38;5;28;01mimport\u001b[39;00m ENGLISH_STOP_WORDS\n",
      "File \u001b[1;32m~\\anaconda3\\Lib\\site-packages\\sklearn\\feature_extraction\\__init__.py:3\u001b[0m\n\u001b[0;32m      1\u001b[0m \u001b[38;5;124;03m\"\"\"Feature extraction from raw data.\"\"\"\u001b[39;00m\n\u001b[1;32m----> 3\u001b[0m \u001b[38;5;28;01mfrom\u001b[39;00m \u001b[38;5;21;01m.\u001b[39;00m \u001b[38;5;28;01mimport\u001b[39;00m text\n\u001b[0;32m      4\u001b[0m \u001b[38;5;28;01mfrom\u001b[39;00m \u001b[38;5;21;01m.\u001b[39;00m\u001b[38;5;21;01m_dict_vectorizer\u001b[39;00m \u001b[38;5;28;01mimport\u001b[39;00m DictVectorizer\n\u001b[0;32m      5\u001b[0m \u001b[38;5;28;01mfrom\u001b[39;00m \u001b[38;5;21;01m.\u001b[39;00m\u001b[38;5;21;01m_hash\u001b[39;00m \u001b[38;5;28;01mimport\u001b[39;00m FeatureHasher\n",
      "File \u001b[1;32m~\\anaconda3\\Lib\\site-packages\\sklearn\\feature_extraction\\text.py:31\u001b[0m\n\u001b[0;32m     29\u001b[0m \u001b[38;5;28;01mfrom\u001b[39;00m \u001b[38;5;21;01m.\u001b[39;00m\u001b[38;5;21;01m.\u001b[39;00m\u001b[38;5;21;01mutils\u001b[39;00m\u001b[38;5;21;01m.\u001b[39;00m\u001b[38;5;21;01mfixes\u001b[39;00m \u001b[38;5;28;01mimport\u001b[39;00m _IS_32BIT\n\u001b[0;32m     30\u001b[0m \u001b[38;5;28;01mfrom\u001b[39;00m \u001b[38;5;21;01m.\u001b[39;00m\u001b[38;5;21;01m.\u001b[39;00m\u001b[38;5;21;01mutils\u001b[39;00m\u001b[38;5;21;01m.\u001b[39;00m\u001b[38;5;21;01mvalidation\u001b[39;00m \u001b[38;5;28;01mimport\u001b[39;00m FLOAT_DTYPES, check_array, check_is_fitted\n\u001b[1;32m---> 31\u001b[0m \u001b[38;5;28;01mfrom\u001b[39;00m \u001b[38;5;21;01m.\u001b[39;00m\u001b[38;5;21;01m_hash\u001b[39;00m \u001b[38;5;28;01mimport\u001b[39;00m FeatureHasher\n\u001b[0;32m     32\u001b[0m \u001b[38;5;28;01mfrom\u001b[39;00m \u001b[38;5;21;01m.\u001b[39;00m\u001b[38;5;21;01m_stop_words\u001b[39;00m \u001b[38;5;28;01mimport\u001b[39;00m ENGLISH_STOP_WORDS\n\u001b[0;32m     34\u001b[0m __all__ \u001b[38;5;241m=\u001b[39m [\n\u001b[0;32m     35\u001b[0m     \u001b[38;5;124m\"\u001b[39m\u001b[38;5;124mHashingVectorizer\u001b[39m\u001b[38;5;124m\"\u001b[39m,\n\u001b[0;32m     36\u001b[0m     \u001b[38;5;124m\"\u001b[39m\u001b[38;5;124mCountVectorizer\u001b[39m\u001b[38;5;124m\"\u001b[39m,\n\u001b[1;32m   (...)\u001b[0m\n\u001b[0;32m     42\u001b[0m     \u001b[38;5;124m\"\u001b[39m\u001b[38;5;124mstrip_tags\u001b[39m\u001b[38;5;124m\"\u001b[39m,\n\u001b[0;32m     43\u001b[0m ]\n",
      "File \u001b[1;32m~\\anaconda3\\Lib\\site-packages\\sklearn\\feature_extraction\\_hash.py:12\u001b[0m\n\u001b[0;32m     10\u001b[0m \u001b[38;5;28;01mfrom\u001b[39;00m \u001b[38;5;21;01m.\u001b[39;00m\u001b[38;5;21;01m.\u001b[39;00m\u001b[38;5;21;01mbase\u001b[39;00m \u001b[38;5;28;01mimport\u001b[39;00m BaseEstimator, TransformerMixin, _fit_context\n\u001b[0;32m     11\u001b[0m \u001b[38;5;28;01mfrom\u001b[39;00m \u001b[38;5;21;01m.\u001b[39;00m\u001b[38;5;21;01m.\u001b[39;00m\u001b[38;5;21;01mutils\u001b[39;00m\u001b[38;5;21;01m.\u001b[39;00m\u001b[38;5;21;01m_param_validation\u001b[39;00m \u001b[38;5;28;01mimport\u001b[39;00m Interval, StrOptions\n\u001b[1;32m---> 12\u001b[0m \u001b[38;5;28;01mfrom\u001b[39;00m \u001b[38;5;21;01m.\u001b[39;00m\u001b[38;5;21;01m_hashing_fast\u001b[39;00m \u001b[38;5;28;01mimport\u001b[39;00m transform \u001b[38;5;28;01mas\u001b[39;00m _hashing_transform\n\u001b[0;32m     15\u001b[0m \u001b[38;5;28;01mdef\u001b[39;00m \u001b[38;5;21m_iteritems\u001b[39m(d):\n\u001b[0;32m     16\u001b[0m \u001b[38;5;250m    \u001b[39m\u001b[38;5;124;03m\"\"\"Like d.iteritems, but accepts any collections.Mapping.\"\"\"\u001b[39;00m\n",
      "File \u001b[1;32m_hashing_fast.pyx:1\u001b[0m, in \u001b[0;36minit sklearn.feature_extraction._hashing_fast\u001b[1;34m()\u001b[0m\n",
      "\u001b[1;31mValueError\u001b[0m: numpy.dtype size changed, may indicate binary incompatibility. Expected 96 from C header, got 88 from PyObject"
     ]
    }
   ],
   "source": [
    "import sklearn\n",
    "print(sklearn.__version__)\n",
    "\n",
    "from sklearn.feature_extraction.text import ENGLISH_STOP_WORDS\n"
   ]
  },
  {
   "cell_type": "code",
   "execution_count": null,
   "id": "178b0a5e-9663-4009-880c-89c447b9ad4a",
   "metadata": {},
   "outputs": [],
   "source": [
    "import re\n",
    "import scipy\n",
    "import sklearn\n",
    "from sklearn.feature_extraction.text import ENGLISH_STOP_WORDS\n",
    "\n",
    "# Example function to preprocess review text\n",
    "def preprocess_text(text):\n",
    "    # Convert to lowercase\n",
    "    text = text.lower()\n",
    "    # Remove non-alphanumeric characters\n",
    "    text = re.sub(r'[^a-z0-9\\s]', '', text)\n",
    "    # Remove stopwords\n",
    "    text = ' '.join([word for word in text.split() if word not in ENGLISH_STOP_WORDS])\n",
    "    return text\n",
    "\n",
    "# Apply the function to the 'ReviewBody' column\n",
    "df['processed_reviewBody'] = df['ReviewBody'].apply(preprocess_text)\n"
   ]
  },
  {
   "cell_type": "code",
   "execution_count": null,
   "id": "5fb26821-d44e-427f-b5b6-c2b07b5d0697",
   "metadata": {},
   "outputs": [],
   "source": [
    "recommend = df[df['Recommended']=='yes']['ReviewBody']\n",
    "no_recommend = df[df['Recommended']=='no']['ReviewBody']\n"
   ]
  },
  {
   "cell_type": "markdown",
   "id": "e403973a-d997-4a80-8499-94f3b659f29b",
   "metadata": {},
   "source": [
    "# Recommended vs No Recommended Review Text"
   ]
  },
  {
   "cell_type": "code",
   "execution_count": null,
   "id": "165b5cb9-5c4a-4c6a-9e1c-90a5609f8c1c",
   "metadata": {},
   "outputs": [],
   "source": [
    "from wordcloud import WordCloud\n",
    "\n",
    "# visualize the frequent words in 'recommend' and 'no recommend' review\n",
    "# subset the data into 'recommend' and 'no_recommend' review\n",
    "recommend = df[df['Recommended']=='yes']['processed_reviewBody']\n",
    "no_recommend = df[df['Recommended']=='no']['processed_reviewBody']\n",
    "\n",
    "\n",
    "combined_recommended = ' '.join(recommend)\n",
    "combined_norecommended = ' '.join(no_recommend)\n",
    "\n",
    "\n",
    "# create a word cloud using the combined text\n",
    "wordcloud_recommend = WordCloud(width = 800, height = 800,\n",
    "                            background_color ='white',\n",
    "                            min_font_size = 10, colormap='flare').generate(combined_recommended)\n",
    "\n",
    "wordcloud_norecommend = WordCloud(width = 800, height = 800,\n",
    "                            background_color ='white',\n",
    "                            min_font_size = 10, colormap='plasma').generate(combined_norecommended)\n",
    " \n",
    "# plot the WordCloud image\n",
    "figure, axes = plt.subplots(1,2, figsize=(15,10))\n",
    "axes[0].imshow(wordcloud_recommend)\n",
    "axes[0].axis('off')\n",
    "axes[0].set_title('Recommended Review', fontsize=30)\n",
    "axes[1].imshow(wordcloud_norecommend)\n",
    "axes[1].axis('off')\n",
    "axes[1].set_title('No Recommended Review', fontsize=30)\n",
    "plt.tight_layout(pad=3)\n",
    "plt.savefig('re vs non re.png',dpi=100)\n",
    "plt.show()"
   ]
  },
  {
   "cell_type": "markdown",
   "id": "70353e53-3061-4340-90d8-1f6164b6ea5e",
   "metadata": {},
   "source": [
    "# proportion of Verified and Unverified Review"
   ]
  },
  {
   "cell_type": "code",
   "execution_count": null,
   "id": "18902484-abb9-47a9-a914-b6af62ad655d",
   "metadata": {},
   "outputs": [],
   "source": [
    "# proportion of the verified and unverified reviews in the dataset\n",
    "verification = df['VerifiedReview'].value_counts()\n",
    "\n",
    "plt.figure(figsize=(10,8))\n",
    "plt.pie(verification.values, labels=['Unverified','Verified'], autopct='%.2f%%', explode=([0.05]*len(verification.index)), colors=['indigo','lightsalmon'])\n",
    "plt.title('Verified vs Unverified Reviews', fontsize=15)\n",
    "plt.savefig('ve and unve.png',dpi=100)\n",
    "plt.show()\n"
   ]
  },
  {
   "cell_type": "code",
   "execution_count": null,
   "id": "d5e61b8f-55e5-4c8e-bdfe-37319c8cfe28",
   "metadata": {},
   "outputs": [],
   "source": [
    "# is there any difference in term of recommendation between verified and no verified reviews?\n",
    "plt.figure(figsize=(12,5))\n",
    "ax = sns.countplot(data=df, x=df['Recommended'], hue=df['VerifiedReview'].astype(str), palette='flare')\n",
    "ax.legend(loc='upper right', bbox_to_anchor=[1.2,1])\n",
    "plt.grid(alpha=0.4)\n",
    "plt.title('Recommendation by Verified and Unverified Reviews', fontsize=15)\n",
    "plt.savefig('Recommendation by Verified and Unverified Reviews.png',dpi=100)\n",
    "plt.show()"
   ]
  },
  {
   "cell_type": "markdown",
   "id": "7926db0a-892d-4ad6-a7cf-c9fb8de349e0",
   "metadata": {},
   "source": [
    "# Negative Feedback Among Verified and Unverified Reviews"
   ]
  },
  {
   "cell_type": "code",
   "execution_count": null,
   "id": "40e912c6-88a9-4ad5-9786-c4254900ae42",
   "metadata": {},
   "outputs": [],
   "source": [
    "# subset a'no_recommend' review from original dataset\n",
    "no_recommend = df[df['Recommended']=='no']\n",
    "\n",
    "# further classify the 'no_recommend' subset into different traveller type\n",
    "verified = no_recommend[no_recommend['VerifiedReview']==True]['processed_reviewBody']\n",
    "no_verified = no_recommend[no_recommend['VerifiedReview']==False]['processed_reviewBody']\n",
    "\n",
    "\n",
    "# combine all processed review text into a single text corpus\n",
    "combined_verified = ' '.join(verified)\n",
    "combined_notverified = ' '.join(no_verified)\n",
    "\n",
    "# create a word cloud using the combined text\n",
    "wordcloud_verified = WordCloud(width = 800, height = 800,\n",
    "                            background_color ='white',\n",
    "                            min_font_size = 10, colormap='flare').generate(combined_verified)\n",
    "\n",
    "wordcloud_notverified = WordCloud(width = 800, height = 800,\n",
    "                            background_color ='white',\n",
    "                            min_font_size = 10, colormap='plasma').generate(combined_notverified)\n",
    "\n",
    " \n",
    "# plot the WordCloud image\n",
    "figure, axes = plt.subplots(1,2, figsize=(15,10))\n",
    "axes[0].imshow(wordcloud_verified)\n",
    "axes[0].axis('off')\n",
    "axes[0].set_title('Verified Review', fontsize=40)\n",
    "axes[1].imshow(wordcloud_notverified)\n",
    "axes[1].axis('off')\n",
    "axes[1].set_title('No Verified Review', fontsize=40)\n",
    "plt.tight_layout(pad=2)\n",
    "plt.savefig('Verified and Unverified Reviews.png',dpi=100)\n",
    "plt.show()"
   ]
  },
  {
   "cell_type": "markdown",
   "id": "8ca6d686-9008-4e30-b068-9dfd62d2a4f8",
   "metadata": {},
   "source": [
    "# Distribution of Customer by Traveller Type"
   ]
  },
  {
   "cell_type": "code",
   "execution_count": null,
   "id": "3d4a3fc3-973b-4409-9da7-b747763d5be8",
   "metadata": {},
   "outputs": [],
   "source": [
    "# what are the traveller type in the dataset?\n",
    "traveller = df['TypeOfTraveller'].value_counts()\n",
    "\n",
    "plt.figure(figsize=(12,5))\n",
    "plt.barh(y=traveller.index, width=traveller.values, color=['indigo','darkorchid','lightcoral','lightsalmon'])\n",
    "plt.xlabel('Frequency')\n",
    "\n",
    "for index, values in enumerate(traveller):\n",
    "    plt.text(values+5, index, str(values), va='center')\n",
    "\n",
    "\n",
    "plt.title('Different Type of Traveller', fontsize=15)\n",
    "plt.grid(alpha=0.4)\n",
    "plt.show()"
   ]
  },
  {
   "cell_type": "code",
   "execution_count": null,
   "id": "05cd3d52-ecc7-4981-8072-bf3e554af3de",
   "metadata": {},
   "outputs": [],
   "source": [
    "# exclude the unknown traveller type\n",
    "data_copy = df[~df['TypeOfTraveller'].isna()]\n",
    "\n",
    "plt.figure(figsize=(12,5))\n",
    "ax = sns.countplot(data=data_copy, x=data_copy['Recommended'], hue=data_copy['TypeOfTraveller'], palette='flare')\n",
    "ax.legend(loc='upper right', bbox_to_anchor=[1.2,1])\n",
    "plt.grid(alpha=0.4)\n",
    "plt.title('Recommendation Among Different Traveller Type', fontsize=15)\n",
    "plt.savefig('Recommendation Among Different Traveller Type',dpi=100)\n",
    "plt.show()"
   ]
  },
  {
   "cell_type": "markdown",
   "id": "6bc622ec-5927-44e5-bb55-1a915adb6af9",
   "metadata": {},
   "source": [
    "# Negative Feedback from Various Type of Traveller"
   ]
  },
  {
   "cell_type": "code",
   "execution_count": null,
   "id": "5bef5a36-33ef-4be8-b3f6-1f75ff642310",
   "metadata": {},
   "outputs": [],
   "source": [
    "# lets understand the unstatisfaction in different type of traveller type\n",
    "\n",
    "# further classify the 'no_recommend' subset into different traveller type\n",
    "couple = no_recommend[no_recommend['TypeOfTraveller']=='Couple Leisure']['processed_reviewBody']\n",
    "solo = no_recommend[no_recommend['TypeOfTraveller']=='Solo Leisure']['processed_reviewBody']\n",
    "business = no_recommend[no_recommend['TypeOfTraveller']=='Business']['processed_reviewBody']\n",
    "family = no_recommend[no_recommend['TypeOfTraveller']=='Family Leisure']['processed_reviewBody']\n",
    "\n",
    "# combine all processed review text in each traveller type into a single text corpus\n",
    "combined_couple = ' '.join(couple)\n",
    "combined_solo = ' '.join(solo)\n",
    "combined_business = ' '.join(business)\n",
    "combined_family = ' '.join(family)\n",
    "\n",
    "\n",
    "# create a word cloud using the combined text\n",
    "wordcloud_couple = WordCloud(width = 800, height = 800,\n",
    "                            background_color ='white',\n",
    "                            min_font_size = 10, colormap='flare').generate(combined_couple)\n",
    "\n",
    "wordcloud_solo = WordCloud(width = 800, height = 800,\n",
    "                            background_color ='white',\n",
    "                            min_font_size = 10, colormap='plasma').generate(combined_solo)\n",
    "\n",
    "wordcloud_business = WordCloud(width = 800, height = 800,\n",
    "                            background_color ='white',\n",
    "                            min_font_size = 10, colormap='flare').generate(combined_business)\n",
    "\n",
    "wordcloud_family = WordCloud(width = 800, height = 800,\n",
    "                            background_color ='white',\n",
    "                            min_font_size = 10, colormap='plasma').generate(combined_family)\n",
    "\n",
    " \n",
    "# plot the WordCloud image\n",
    "figure, axes = plt.subplots(1,2, figsize=(15,10))\n",
    "axes[0].imshow(wordcloud_couple)\n",
    "axes[0].axis('off')\n",
    "axes[0].set_title('Couple Leisure', fontsize=40)\n",
    "axes[1].imshow(wordcloud_solo)\n",
    "axes[1].axis('off')\n",
    "axes[1].set_title('Solo Leisure', fontsize=40)\n",
    "plt.tight_layout(pad=2)\n",
    "plt.show()\n",
    "\n",
    "# plot the WordCloud image\n",
    "figure, axes = plt.subplots(1,2, figsize=(15,10))\n",
    "axes[0].imshow(wordcloud_business)\n",
    "axes[0].axis('off')\n",
    "axes[0].set_title('Business', fontsize=40)\n",
    "axes[1].imshow(wordcloud_family)\n",
    "axes[1].axis('off')\n",
    "axes[1].set_title('Family Lesiure', fontsize=40)\n",
    "plt.tight_layout(pad=2)\n",
    "plt.savefig('unstatisfaction in different type of traveller type',dpi=100)\n",
    "plt.show()"
   ]
  },
  {
   "cell_type": "code",
   "execution_count": null,
   "id": "c604d6b3-2820-42ab-81d7-68478a44ae14",
   "metadata": {},
   "outputs": [],
   "source": [
    "#TextAnalysis | AirlineReviews"
   ]
  },
  {
   "cell_type": "markdown",
   "id": "31be3541-2dee-4570-90c1-4aabac836545",
   "metadata": {},
   "source": [
    "# Distribution of Customers Based on Seat Types"
   ]
  },
  {
   "cell_type": "code",
   "execution_count": null,
   "id": "fe8ab2c9-928a-4a77-83ea-d64a6fb97a99",
   "metadata": {},
   "outputs": [],
   "source": [
    "# install the squarify library into the environment\n",
    "!pip install squarify\n",
    "\n",
    "# import squarify library (for plotting treemap)\n",
    "import squarify"
   ]
  },
  {
   "cell_type": "code",
   "execution_count": null,
   "id": "80f86dcb-4225-4554-81f5-9c7b6208af1d",
   "metadata": {},
   "outputs": [],
   "source": [
    "# visualize the distribution of customer by the type of seat in treemap\n",
    "# normalize the data\n",
    "seats = df['SeatType'].value_counts()\n",
    "total = df.shape[0]\n",
    "normed_data = (seats.values / total) * 100\n",
    "\n",
    "# create a treemap\n",
    "plt.figure(figsize=(12,8))\n",
    "squarify.plot(sizes=normed_data, label=seats.index, color=['lightcoral','lightsalmon','indigo','darkorchid'],pad=False)\n",
    "\n",
    "# remove axis labels\n",
    "plt.axis('off')\n",
    "\n",
    "plt.title('Distribution of Customers by Seat Type', fontsize=15)\n",
    "plt.savefig('Distribution of Customers by Seat Type',dpi=100)\n",
    "plt.show()"
   ]
  },
  {
   "cell_type": "code",
   "execution_count": null,
   "id": "5ebf0929-6125-43ab-b872-c127e172c72e",
   "metadata": {},
   "outputs": [],
   "source": [
    "# is there any difference in term of recommendation between customer from various seat type?\n",
    "\n",
    "# exclude the unknown traveller type\n",
    "data_copy = df[~df['SeatType'].isna()]\n",
    "\n",
    "plt.figure(figsize=(12,5))\n",
    "ax = sns.countplot(data=data_copy, x=data_copy['Recommended'], hue=data_copy['SeatType'], palette='flare')\n",
    "ax.legend(loc='upper right', bbox_to_anchor=[1.2,1])\n",
    "plt.grid(alpha=0.4)\n",
    "plt.title('Recommendation Among Customers in Different Seat Type', fontsize=15)\n",
    "plt.savefig('Recommendation Among Customers in Different Seat Type',dpi=100)\n",
    "plt.show()"
   ]
  },
  {
   "cell_type": "markdown",
   "id": "b9207ddd-58c7-41d4-b9c8-06fdc3476510",
   "metadata": {},
   "source": [
    "# Customer Critique Across Various Seat Types"
   ]
  },
  {
   "cell_type": "code",
   "execution_count": null,
   "id": "b3ffddb1-368c-4e5c-9134-178105c0d04a",
   "metadata": {},
   "outputs": [],
   "source": [
    "# lets understand the unstatisfaction of customer in different category of seat type\n",
    "\n",
    "# further classify the 'no_recommend' subset into different categories of seat type\n",
    "economy = no_recommend[no_recommend['SeatType']=='Economy Class']['processed_reviewBody']\n",
    "business = no_recommend[no_recommend['SeatType']=='Business Class']['processed_reviewBody']\n",
    "premium = no_recommend[no_recommend['SeatType']=='Premium Economy']['processed_reviewBody']\n",
    "first = no_recommend[no_recommend['SeatType']=='First Class']['processed_reviewBody']\n",
    "\n",
    "# combine all processed review text in each traveller type into a single text corpus\n",
    "# remove the word 'seat' from being generated in the word cloud\n",
    "combined_economy = ' '.join(economy).replace('seat','')\n",
    "combined_business = ' '.join(business).replace('seat','')\n",
    "combined_premium = ' '.join(premium).replace('seat','')\n",
    "combined_first = ' '.join(first).replace('seat','')\n",
    "\n",
    "\n",
    "# create a word cloud using the combined text\n",
    "wordcloud_economy = WordCloud(width = 800, height = 800,\n",
    "                            background_color ='white',\n",
    "                            min_font_size = 10, colormap='flare').generate(combined_economy)\n",
    "\n",
    "wordcloud_business = WordCloud(width = 800, height = 800,\n",
    "                            background_color ='white',\n",
    "                            min_font_size = 10, colormap='plasma').generate(combined_business)\n",
    "\n",
    "wordcloud_premium = WordCloud(width = 800, height = 800,\n",
    "                            background_color ='white',\n",
    "                            min_font_size = 10, colormap='flare').generate(combined_premium)\n",
    "\n",
    "wordcloud_first = WordCloud(width = 800, height = 800,\n",
    "                            background_color ='white',\n",
    "                            min_font_size = 10, colormap='plasma').generate(combined_first)\n",
    "\n",
    " \n",
    "# plot the WordCloud image\n",
    "figure, axes = plt.subplots(1,2, figsize=(15,10))\n",
    "axes[0].imshow(wordcloud_economy)\n",
    "axes[0].axis('off')\n",
    "axes[0].set_title('Economy Class', fontsize=40)\n",
    "axes[1].imshow(wordcloud_business)\n",
    "axes[1].axis('off')\n",
    "axes[1].set_title('Business Class', fontsize=40)\n",
    "plt.tight_layout(pad=2)\n",
    "plt.show()\n",
    "\n",
    "# plot the WordCloud image\n",
    "figure, axes = plt.subplots(1,2, figsize=(15,10))\n",
    "axes[0].imshow(wordcloud_premium)\n",
    "axes[0].axis('off')\n",
    "axes[0].set_title('Premium Economy', fontsize=40)\n",
    "axes[1].imshow(wordcloud_first)\n",
    "axes[1].axis('off')\n",
    "axes[1].set_title('First Class', fontsize=40)\n",
    "plt.tight_layout(pad=2)\n",
    "plt.savefig('understand the unstatisfaction of customer in different category of seat type',dpi=100)\n",
    "plt.show()"
   ]
  },
  {
   "cell_type": "markdown",
   "id": "1e77863d-661b-4bbd-8746-1c23d57e97b3",
   "metadata": {},
   "source": [
    " # Predictive Modelling"
   ]
  },
  {
   "cell_type": "markdown",
   "id": "3e73f782-c215-4fd3-9e31-38c97cd2b971",
   "metadata": {},
   "source": [
    "# Data Preprocessing for Model Training"
   ]
  },
  {
   "cell_type": "code",
   "execution_count": null,
   "id": "7730e61d-8048-4015-8c46-dc8e8fff1ec6",
   "metadata": {},
   "outputs": [],
   "source": [
    "# can we predict whether the customer will recommend the airline based on their review?\n",
    "# create a subset of data only contains attributes 'ReviewBody' & 'Recommended'\n",
    "data_model = df.copy()\n",
    "data_model = data_model[['ReviewBody','Recommended']]"
   ]
  },
  {
   "cell_type": "code",
   "execution_count": null,
   "id": "52b9a8e7-d2c7-4254-9cce-d514fa6f40af",
   "metadata": {
    "scrolled": true
   },
   "outputs": [],
   "source": [
    "# install SpaCy for performing text classification\n",
    "!pip install spacy\n",
    "# download a language model in SpaCy\n",
    "!python -m spacy download en_core_web_lg\n",
    "# load SpaCy libraries and the language model\n",
    "import spacy\n",
    "nlp = spacy.load('en_core_web_lg')"
   ]
  },
  {
   "cell_type": "code",
   "execution_count": null,
   "id": "0fa39aca-e2e6-4ff0-a15b-9907c6b9bc95",
   "metadata": {},
   "outputs": [],
   "source": [
    "# conda create -n myenv python=3.9\n",
    "# conda activate myenv\n",
    "# pip install spacy\n",
    "# python -m spacy download en_core_web_lg\n"
   ]
  },
  {
   "cell_type": "code",
   "execution_count": null,
   "id": "e2fcaa4d-bd32-41a2-bb22-9b545f10b72e",
   "metadata": {
    "scrolled": true
   },
   "outputs": [],
   "source": [
    "# process the text into vector (the vector size is 300)\n",
    "# this is done by using the word vectors from a large SpaCy model for text embedding\n",
    "data_model['textVector'] = data_model['ReviewBody'].apply(lambda x: nlp(x).vector)"
   ]
  },
  {
   "cell_type": "code",
   "execution_count": null,
   "id": "4e72196a-1a4d-4fbf-b900-dcd1f55dcec4",
   "metadata": {},
   "outputs": [],
   "source": [
    "# the column title and text (textVector will be used instead) will not use in this analysis\n",
    "data_copy = data_model.copy()\n",
    "data_copy.drop(columns=['ReviewBody'], axis=1, inplace=True)\n",
    "\n",
    "# split the dataset into training and test datasets\n",
    "from sklearn.model_selection import train_test_split\n",
    "\n",
    "train, test = train_test_split(data_copy, test_size=0.2, random_state=122)\n",
    "\n",
    "# check the dimension of the train and test data\n",
    "print('Dimension of training data: ', train.shape)\n",
    "print('Dimension of test dat: ', test.shape)"
   ]
  },
  {
   "cell_type": "code",
   "execution_count": null,
   "id": "f5a056ae-c585-4eaa-a649-4cfa20841c78",
   "metadata": {},
   "outputs": [],
   "source": [
    "# segregate the feature and label of the train and test data\n",
    "Xtrain = train['textVector']\n",
    "ytrain = train['Recommended']\n",
    "\n",
    "Xtest = test['textVector']\n",
    "ytest = test['Recommended']"
   ]
  },
  {
   "cell_type": "code",
   "execution_count": null,
   "id": "f2af3172-5143-49c7-b06c-a9a8ece93deb",
   "metadata": {},
   "outputs": [],
   "source": [
    "# encode the label into numeric data\n",
    "from sklearn.preprocessing import LabelEncoder\n",
    "\n",
    "encoder = LabelEncoder()\n",
    "ytrain_encoded = encoder.fit_transform(ytrain)\n",
    "ytest_encoded = encoder.transform(ytest)"
   ]
  },
  {
   "cell_type": "code",
   "execution_count": null,
   "id": "88b40168-8305-43e1-820b-03665cef73e2",
   "metadata": {},
   "outputs": [],
   "source": [
    "# convert the Xtrain and Xtest data into 2D numpy array\n",
    "Xtrain = np.array(Xtrain)\n",
    "Xtest = np.array(Xtest)\n",
    "\n",
    "Xtrain_2d = np.stack(Xtrain)\n",
    "Xtest_2d = np.stack(Xtest)"
   ]
  },
  {
   "cell_type": "code",
   "execution_count": null,
   "id": "334187e2-0535-4c31-83be-f45153e36dc8",
   "metadata": {},
   "outputs": [],
   "source": [
    "# scale the feature vector \n",
    "from sklearn.preprocessing import MinMaxScaler\n",
    "\n",
    "scaler = MinMaxScaler()\n",
    "Xtrain_scaled = scaler.fit_transform(Xtrain_2d)\n",
    "Xtest_scaled = scaler.transform(Xtest_2d)"
   ]
  },
  {
   "cell_type": "markdown",
   "id": "5d55e0fe-0588-4d15-934d-f76c0d650a73",
   "metadata": {},
   "source": [
    "# Model Training"
   ]
  },
  {
   "cell_type": "code",
   "execution_count": null,
   "id": "835dda4a-72c3-4ab3-b90a-99fe8fca81af",
   "metadata": {},
   "outputs": [],
   "source": [
    "from sklearn.naive_bayes import ComplementNB\n",
    "\n",
    "# instantiate a ComplementNB() class\n",
    "clf = ComplementNB()\n",
    "\n",
    "# fit the model with training data\n",
    "cNB = clf.fit(Xtrain_scaled, ytrain_encoded)"
   ]
  },
  {
   "cell_type": "markdown",
   "id": "c2f90528-7d2a-4d56-94e7-3e912b3b298e",
   "metadata": {},
   "source": [
    "# Model Performance"
   ]
  },
  {
   "cell_type": "code",
   "execution_count": null,
   "id": "a4212e01-2626-4269-9127-0ee1230d8ed7",
   "metadata": {},
   "outputs": [],
   "source": [
    "from sklearn.metrics import confusion_matrix, classification_report\n",
    "\n",
    "ypred = cNB.predict(Xtest_scaled)\n",
    "\n",
    "# confusion matrix\n",
    "confusionMatrix = confusion_matrix(ytest_encoded,ypred, normalize='true')\n",
    "\n",
    "# visualize the confusion matrix in a heatmap\n",
    "plt.figure()\n",
    "sns.heatmap(confusionMatrix, annot=True, cmap='BuPu', fmt='.4g')\n",
    "\n",
    "plt.show()\n",
    "\n",
    "# classification report\n",
    "report = classification_report(ytest_encoded, ypred)\n",
    "print(report)"
   ]
  },
  {
   "cell_type": "code",
   "execution_count": null,
   "id": "a2a6ee7e-ee60-4f55-9195-129f52e7530b",
   "metadata": {},
   "outputs": [],
   "source": [
    "# plot the ROC curve\n",
    "from sklearn.metrics import auc, roc_curve, RocCurveDisplay\n",
    "\n",
    "display = RocCurveDisplay.from_estimator(cNB, Xtest_scaled, ytest_encoded, name='Naive Bayes')\n",
    "plt.show()\n"
   ]
  },
  {
   "cell_type": "code",
   "execution_count": null,
   "id": "17dc6078-1f05-490c-a831-7408c7b9996f",
   "metadata": {},
   "outputs": [],
   "source": [
    "# precision-recall curve\n",
    "from sklearn.metrics import PrecisionRecallDisplay\n",
    "\n",
    "display = PrecisionRecallDisplay.from_estimator(cNB, Xtest_scaled, ytest_encoded, name='Naive Bayes')\n",
    "plt.show()"
   ]
  },
  {
   "cell_type": "code",
   "execution_count": null,
   "id": "c8eef608-7213-43b8-8aca-f83af15376a9",
   "metadata": {},
   "outputs": [],
   "source": []
  }
 ],
 "metadata": {
  "kernelspec": {
   "display_name": "Python 3 (ipykernel)",
   "language": "python",
   "name": "python3"
  },
  "language_info": {
   "codemirror_mode": {
    "name": "ipython",
    "version": 3
   },
   "file_extension": ".py",
   "mimetype": "text/x-python",
   "name": "python",
   "nbconvert_exporter": "python",
   "pygments_lexer": "ipython3",
   "version": "3.12.7"
  }
 },
 "nbformat": 4,
 "nbformat_minor": 5
}
